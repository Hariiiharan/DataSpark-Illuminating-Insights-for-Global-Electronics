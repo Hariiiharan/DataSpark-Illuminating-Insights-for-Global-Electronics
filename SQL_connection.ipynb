{
 "cells": [
  {
   "cell_type": "markdown",
   "metadata": {},
   "source": [
    "SQL CONNECTION"
   ]
  },
  {
   "cell_type": "markdown",
   "metadata": {},
   "source": [
    "mysql connection"
   ]
  },
  {
   "cell_type": "code",
   "execution_count": 28,
   "metadata": {},
   "outputs": [],
   "source": [
    "import mysql.connector\n",
    "import pandas as pd  # Make sure to import pandas\n",
    "\n",
    "# Establishing the connection\n",
    "conn = mysql.connector.connect(\n",
    "    host=\"localhost\",\n",
    "    user=\"root\",\n",
    "    password=\"H@ridhoni7\"\n",
    ")\n",
    "\n",
    "my_cursor = conn.cursor()\n"
   ]
  },
  {
   "cell_type": "code",
   "execution_count": null,
   "metadata": {},
   "outputs": [],
   "source": [
    "my_cursor.execute(\"drop database GLOBAL_ELECTRONICS \")"
   ]
  },
  {
   "cell_type": "code",
   "execution_count": 3,
   "metadata": {},
   "outputs": [],
   "source": [
    "# Create the database if it doesn't exist\n",
    "my_cursor.execute(\"CREATE DATABASE IF NOT EXISTS GLOBAL_ELECTRONICS\")\n",
    "\n",
    "# Select the database\n",
    "my_cursor.execute(\"USE GLOBAL_ELECTRONICS\")"
   ]
  },
  {
   "cell_type": "markdown",
   "metadata": {},
   "source": [
    "Importing Data_Spark data into mysql"
   ]
  },
  {
   "cell_type": "code",
   "execution_count": 6,
   "metadata": {},
   "outputs": [
    {
     "name": "stdout",
     "output_type": "stream",
     "text": [
      "Table created successfully\n"
     ]
    }
   ],
   "source": [
    "# Create the Customers table\n",
    "create_table_query = '''\n",
    "    CREATE TABLE IF NOT EXISTS Data_spark (\n",
    "        Order_Number             INT,\n",
    "        Line_Item                INT,\n",
    "        Order_Date               DATE,\n",
    "        Delivery_Date            DATE,\n",
    "        CustomerKey              INT,\n",
    "        StoreKey                 INT,\n",
    "        ProductKey               INT,\n",
    "        Quantity                 INT,\n",
    "        Currency_Code            VARCHAR(100),\n",
    "        Gender                   VARCHAR(10),\n",
    "        Name                     VARCHAR(255),\n",
    "        City                     VARCHAR(100),\n",
    "        State_Code               VARCHAR(100),\n",
    "        State                    VARCHAR(100),\n",
    "        Zip_Code                 VARCHAR(200),\n",
    "        Country                  VARCHAR(100),\n",
    "        Continent                VARCHAR(50),\n",
    "        Birthday                 DATE,\n",
    "        Product_Name             VARCHAR(255),\n",
    "        Brand                    VARCHAR(100),\n",
    "        Color                    VARCHAR(50),\n",
    "        Unit_Cost_USD            FLOAT,\n",
    "        Unit_Price_USD           FLOAT,\n",
    "        SubcategoryKey           INT,\n",
    "        Subcategory              VARCHAR(100),\n",
    "        CategoryKey              INT,\n",
    "        Category                 VARCHAR(100),\n",
    "        Square_Meters            FLOAT,\n",
    "        Open_Date                DATE,\n",
    "        Currency                 VARCHAR(100),\n",
    "        Exchange                 FLOAT,\n",
    "        Age                      INT,\n",
    "        Profit_Margin            FLOAT,\n",
    "        Revenue                  FLOAT\n",
    "    );\n",
    "'''\n",
    "\n",
    "my_cursor.execute(create_table_query)\n",
    "print(\"Table created successfully\")"
   ]
  },
  {
   "cell_type": "markdown",
   "metadata": {},
   "source": [
    "Inserting Values"
   ]
  },
  {
   "cell_type": "code",
   "execution_count": 7,
   "metadata": {},
   "outputs": [
    {
     "name": "stdout",
     "output_type": "stream",
     "text": [
      "Values inserted successfully\n"
     ]
    }
   ],
   "source": [
    "# Define the updated SQL insert query\n",
    "insert_query = '''\n",
    "    INSERT INTO Data_spark (\n",
    "        Order_Number, Line_Item, Order_Date, Delivery_Date, CustomerKey, StoreKey,\n",
    "        ProductKey, Quantity, Currency_Code, Gender, Name, City, State_Code, State,\n",
    "        Zip_Code, Country, Continent, Birthday, Product_Name, Brand, Color, Unit_Cost_USD,\n",
    "        Unit_Price_USD, SubcategoryKey, Subcategory, CategoryKey, Category, Square_Meters,\n",
    "        Open_Date, Currency, Exchange, Age, Profit_Margin, Revenue\n",
    "    ) VALUES (\n",
    "        %s, %s, %s, %s, %s, %s, %s, %s, %s, %s, %s, %s, %s, %s, %s, %s, %s, %s, %s, %s,\n",
    "        %s, %s, %s, %s, %s, %s, %s, %s, %s, %s, %s, %s, %s,%s\n",
    "        \n",
    "    )\n",
    "'''\n",
    "# Read the CSV file into a DataFrame\n",
    "df_data_spark = pd.read_csv(r\"C:\\Users\\haris\\OneDrive\\Documents\\hariii_note\\Project 2\\Dataspark.csv\")\n",
    "\n",
    "# Remove spaces from column names\n",
    "df_data_spark.columns = df_data_spark.columns.str.replace(' ', '_')\n",
    "\n",
    "# Loop to insert each row from the DataFrame\n",
    "for index, row in df_data_spark.iterrows():\n",
    "    my_cursor.execute(insert_query, (\n",
    "        row['Order_Number'], row['Line_Item'], row['Order_Date'], row['Delivery_Date'], row['CustomerKey'],\n",
    "        row['StoreKey'], row['ProductKey'], row['Quantity'], row['Currency_Code'], row['Gender'], row['Name'],\n",
    "        row['City'], row['State_Code'], row['State'], row['Zip_Code'], row['Country'], row['Continent'],\n",
    "        row['Birthday'], row['Product_Name'], row['Brand'], row['Color'], row['Unit_Cost_USD'],\n",
    "        row['Unit_Price_USD'], row['SubcategoryKey'], row['Subcategory'], row['CategoryKey'], \n",
    "        row['Category'], row['Square_Meters'], row['Open_Date'], row['Currency'], row['Exchange'],\n",
    "        row['Age'], row['Profit_Margin'], row['Revenue']\n",
    "    ))\n",
    "\n",
    "# Commit the transaction\n",
    "conn.commit()\n",
    "print(\"Values inserted successfully\")\n",
    "\n",
    "# Close the connection\n",
    "conn.close()"
   ]
  },
  {
   "cell_type": "code",
   "execution_count": 29,
   "metadata": {},
   "outputs": [],
   "source": [
    "# Select the database\n",
    "my_cursor.execute(\"USE GLOBAL_ELECTRONICS\")"
   ]
  },
  {
   "cell_type": "markdown",
   "metadata": {},
   "source": [
    "10 SQL Quaries"
   ]
  },
  {
   "cell_type": "code",
   "execution_count": null,
   "metadata": {},
   "outputs": [],
   "source": [
    "! pip install tabulate\n",
    "\n",
    "from tabulate import tabulate\n"
   ]
  },
  {
   "cell_type": "code",
   "execution_count": 30,
   "metadata": {},
   "outputs": [
    {
     "name": "stdout",
     "output_type": "stream",
     "text": [
      "+----------------+-------------+--------------+-----------------+---------------+------------+--------------+------------+-----------------+----------+----------------+------------------+-----------------+-----------------+------------+----------------+---------------+------------+----------------------------------------------------+-------------------+---------+-----------------+------------------+------------------+----------------------------------+---------------+-------------------------------+-----------------+-------------+------------+------------+-------+-----------------+-----------+\n",
      "|   Order_Number |   Line_Item | Order_Date   | Delivery_Date   |   CustomerKey |   StoreKey |   ProductKey |   Quantity | Currency_Code   | Gender   | Name           | City             | State_Code      | State           | Zip_Code   | Country        | Continent     | Birthday   | Product_Name                                       | Brand             | Color   |   Unit_Cost_USD |   Unit_Price_USD |   SubcategoryKey | Subcategory                      |   CategoryKey | Category                      |   Square_Meters | Open_Date   | Currency   |   Exchange |   Age |   Profit_Margin |   Revenue |\n",
      "|----------------+-------------+--------------+-----------------+---------------+------------+--------------+------------+-----------------+----------+----------------+------------------+-----------------+-----------------+------------+----------------+---------------+------------+----------------------------------------------------+-------------------+---------+-----------------+------------------+------------------+----------------------------------+---------------+-------------------------------+-----------------+-------------+------------+------------+-------+-----------------+-----------|\n",
      "|         366000 |           1 | 2016-01-01   | 2016-01-13      |        265598 |         10 |         1304 |          1 | CAD             | Male     | Tyler Vaught   | London           | ON              | Ontario         | N5W 5K6    | Canada         | North America | 1971-03-23 | Contoso Lens Adapter M450 White                    | Contoso           | White   |           31.27 |            68    |              406 | Cameras & Camcorders Accessories |             4 | Cameras and camcorders        |          1402.2 | 2015-12-09  | CAD        |     1.3884 |    53 |        0.540147 |     68    |\n",
      "|         366001 |           1 | 2016-01-01   | 2016-01-13      |       1269051 |          0 |         1048 |          2 | USD             | Male     | Frank Upchurch | Auberry          | CA              | California      | 93602      | United States  | North America | 1995-11-20 | A. Datum SLR Camera X136 Silver                    | A. Datum          | Silver  |          141.47 |           427    |              402 | Digital SLR Cameras              |             4 | Cameras and camcorders        |          1402.2 | 2015-12-09  | USD        |     1      |    29 |        0.668689 |    854    |\n",
      "|         366001 |           2 | 2016-01-01   | 2016-01-13      |       1269051 |          0 |         2007 |          1 | USD             | Male     | Frank Upchurch | Auberry          | CA              | California      | 93602      | United States  | North America | 1995-11-20 | Fabrikam Microwave 1.5CuFt X1100 Black             | Fabrikam          | Black   |          220.64 |           665.94 |              803 | Microwaves                       |             8 | Home Appliances               |          1402.2 | 2015-12-09  | USD        |     1      |    29 |        0.668679 |    665.94 |\n",
      "|         366002 |           1 | 2016-01-01   | 2016-01-12      |        266019 |          0 |         1106 |          7 | CAD             | Female   | Joan Roche     | Red Deer         | AB              | Alberta         | T4N 2A6    | Canada         | North America | 1962-08-24 | Contoso SLR Camera M146 Orange                     | Contoso           | Orange  |          148.08 |           322    |              402 | Digital SLR Cameras              |             4 | Cameras and camcorders        |          1402.2 | 2015-12-09  | CAD        |     1.3884 |    62 |        0.540124 |   2254    |\n",
      "|         366002 |           2 | 2016-01-01   | 2016-01-12      |        266019 |          0 |          373 |          1 | CAD             | Female   | Joan Roche     | Red Deer         | AB              | Alberta         | T4N 2A6    | Canada         | North America | 1962-08-24 | Adventure Works Laptop8.9 E0890 White              | Adventure Works   | White   |          166.2  |           326    |              301 | Laptops                          |             3 | Computers                     |          1402.2 | 2015-12-09  | CAD        |     1.3884 |    62 |        0.490184 |    326    |\n",
      "|         366002 |           3 | 2016-01-01   | 2016-01-12      |        266019 |          0 |         1080 |          4 | CAD             | Female   | Joan Roche     | Red Deer         | AB              | Alberta         | T4N 2A6    | Canada         | North America | 1962-08-24 | Contoso SLR Camera X143 Silver                     | Contoso           | Silver  |          214.03 |           646    |              402 | Digital SLR Cameras              |             4 | Cameras and camcorders        |          1402.2 | 2015-12-09  | CAD        |     1.3884 |    62 |        0.668684 |   2584    |\n",
      "|         366004 |           1 | 2016-01-01   | 2016-01-08      |       1107461 |         38 |          163 |          6 | GBP             | Male     | Sam Nelson     | BURSCOUGH BRIDGE | West Lancashire | West Lancashire | L40 8UX    | United Kingdom | Europe        | 1979-11-28 | Adventure Works 52\" LCD HDTV X790W White           | Adventure Works   | White   |          527.53 |          1592.2  |              201 | Televisions                      |             2 | TV and Video                  |          1402.2 | 2015-12-09  | GBP        |     0.6742 |    45 |        0.668679 |   9553.2  |\n",
      "|         366004 |           2 | 2016-01-01   | 2016-01-08      |       1107461 |         38 |         1529 |          2 | GBP             | Male     | Sam Nelson     | BURSCOUGH BRIDGE | West Lancashire | West Lancashire | L40 8UX    | United Kingdom | Europe        | 1979-11-28 | The Phone Company PDA Handheld 3.5 inch M610 Black | The Phone Company | Black   |          117.27 |           255    |              504 | Smart phones & PDAs              |             5 | Cell phones                   |          1402.2 | 2015-12-09  | GBP        |     0.6742 |    45 |        0.540118 |    510    |\n",
      "|         366005 |           1 | 2016-01-01   | 2016-01-08      |        844003 |         33 |          421 |          4 | EUR             | Male     | Ouassim Heuver | Leeuwarden       | FR              | Friesland       | 8916 CD    | Netherlands    | Europe        | 1995-06-22 | Adventure Works Desktop PC3.0 MS300 Silver         | Adventure Works   | Silver  |          215.68 |           469    |              303 | Desktops                         |             3 | Computers                     |          1540   | 2015-12-09  | EUR        |     0.9185 |    29 |        0.540128 |   1876    |\n",
      "|         366007 |           1 | 2016-01-01   | 2016-01-08      |       2035771 |         43 |         1617 |          1 | USD             | Female   | Damiana Corona | Winchester       | VA              | Virginia        | 22601      | United States  | North America | 1944-10-30 | Contoso DVD Player M110 Silver                     | Contoso           | Silver  |           26.67 |            57.99 |              602 | Movie DVD                        |             6 | Music, Movies and Audio Books |          1402.2 | 2012-08-08  | USD        |     1      |    80 |        0.540093 |     57.99 |\n",
      "+----------------+-------------+--------------+-----------------+---------------+------------+--------------+------------+-----------------+----------+----------------+------------------+-----------------+-----------------+------------+----------------+---------------+------------+----------------------------------------------------+-------------------+---------+-----------------+------------------+------------------+----------------------------------+---------------+-------------------------------+-----------------+-------------+------------+------------+-------+-----------------+-----------+\n"
     ]
    }
   ],
   "source": [
    "# Execute the new query\n",
    "my_cursor.execute(\"select * from GLOBAL_ELECTRONICS.Data_spark LIMIT 10\")\n",
    "\n",
    "# Fetch the result\n",
    "out = my_cursor.fetchall()\n",
    "\n",
    "# Print the result in a table format using 'tabulate'\n",
    "print(tabulate(out, headers=[i[0] for i in my_cursor.description], tablefmt='psql'))"
   ]
  },
  {
   "cell_type": "markdown",
   "metadata": {},
   "source": [
    "1. Count of Males in company"
   ]
  },
  {
   "cell_type": "code",
   "execution_count": 39,
   "metadata": {},
   "outputs": [
    {
     "name": "stdout",
     "output_type": "stream",
     "text": [
      "+---------+\n",
      "|   Males |\n",
      "|---------|\n",
      "|    6029 |\n",
      "+---------+\n"
     ]
    }
   ],
   "source": [
    "my_cursor.execute(\"SELECT COUNT(DISTINCT CustomerKey) AS Males FROM Data_spark WHERE Gender = 'Male'\")\n",
    "\n",
    "# Fetch the result\n",
    "out = my_cursor.fetchall()\n",
    "\n",
    "\n",
    "# Print the result in a table format using 'tabulate'\n",
    "print(tabulate(out, headers=[i[0] for i in my_cursor.description], tablefmt='psql'))"
   ]
  },
  {
   "cell_type": "markdown",
   "metadata": {},
   "source": [
    "2. Count of Females in company"
   ]
  },
  {
   "cell_type": "code",
   "execution_count": 40,
   "metadata": {},
   "outputs": [
    {
     "name": "stdout",
     "output_type": "stream",
     "text": [
      "+-----------+\n",
      "|   Females |\n",
      "|-----------|\n",
      "|      5858 |\n",
      "+-----------+\n"
     ]
    }
   ],
   "source": [
    "my_cursor.execute(\"SELECT COUNT(DISTINCT CustomerKey) AS Females FROM Data_spark WHERE Gender = 'Female'\")\n",
    "\n",
    "# Fetch the result\n",
    "out = my_cursor.fetchall()\n",
    "\n",
    "# Print the result in a table format using 'tabulate'\n",
    "print(tabulate(out, headers=[i[0] for i in my_cursor.description], tablefmt='psql'))"
   ]
  },
  {
   "cell_type": "markdown",
   "metadata": {},
   "source": [
    "3. Total Customers"
   ]
  },
  {
   "cell_type": "code",
   "execution_count": 41,
   "metadata": {},
   "outputs": [
    {
     "name": "stdout",
     "output_type": "stream",
     "text": [
      "+------------------+\n",
      "|   TotalCustomers |\n",
      "|------------------|\n",
      "|            11887 |\n",
      "+------------------+\n"
     ]
    }
   ],
   "source": [
    "my_cursor.execute(\"SELECT COUNT(DISTINCT CustomerKey) AS TotalCustomers FROM Data_spark\")\n",
    "\n",
    "# Fetch the result\n",
    "out = my_cursor.fetchall()\n",
    "\n",
    "# Print the result in a table format using 'tabulate'\n",
    "print(tabulate(out, headers=[i[0] for i in my_cursor.description], tablefmt='psql'))\n"
   ]
  },
  {
   "cell_type": "markdown",
   "metadata": {},
   "source": [
    "4. Total Customers in Each Country"
   ]
  },
  {
   "cell_type": "code",
   "execution_count": 44,
   "metadata": {},
   "outputs": [
    {
     "name": "stdout",
     "output_type": "stream",
     "text": [
      "+----------------+-------------------+\n",
      "| Country        |   Total_Customers |\n",
      "|----------------+-------------------|\n",
      "| Canada         |              5415 |\n",
      "| United States  |             33767 |\n",
      "| United Kingdom |              8140 |\n",
      "| Netherlands    |              2250 |\n",
      "| Italy          |              2685 |\n",
      "| France         |              1730 |\n",
      "| Germany        |              5956 |\n",
      "| Australia      |              2941 |\n",
      "+----------------+-------------------+\n"
     ]
    }
   ],
   "source": [
    "my_cursor.execute(\"SELECT Country, COUNT(CustomerKey) AS Total_Customers FROM Data_spark GROUP BY Country\")\n",
    "\n",
    "# Fetch the result\n",
    "out = my_cursor.fetchall()\n",
    "\n",
    "# Print the result in a table format using 'tabulate'\n",
    "print(tabulate(out, headers=[i[0] for i in my_cursor.description], tablefmt='psql'))"
   ]
  },
  {
   "cell_type": "markdown",
   "metadata": {},
   "source": [
    "5. Total Revenue"
   ]
  },
  {
   "cell_type": "code",
   "execution_count": 45,
   "metadata": {},
   "outputs": [
    {
     "name": "stdout",
     "output_type": "stream",
     "text": [
      "+-----------------+\n",
      "|   Total_Revenue |\n",
      "|-----------------|\n",
      "|     5.57555e+07 |\n",
      "+-----------------+\n"
     ]
    }
   ],
   "source": [
    "my_cursor.execute(\"SELECT SUM(Revenue) AS Total_Revenue FROM Data_spark\")\n",
    "\n",
    "# Fetch the result\n",
    "out = my_cursor.fetchall()\n",
    "\n",
    "# Print the result in a table format using 'tabulate'\n",
    "print(tabulate(out, headers=[i[0] for i in my_cursor.description], tablefmt='psql'))"
   ]
  },
  {
   "cell_type": "markdown",
   "metadata": {},
   "source": [
    "6.Total Quantity Sold"
   ]
  },
  {
   "cell_type": "code",
   "execution_count": 46,
   "metadata": {},
   "outputs": [
    {
     "name": "stdout",
     "output_type": "stream",
     "text": [
      "+-----------------------+\n",
      "|   Total_Quantity_Sold |\n",
      "|-----------------------|\n",
      "|                197757 |\n",
      "+-----------------------+\n"
     ]
    }
   ],
   "source": [
    "my_cursor.execute(\"SELECT SUM(Quantity) AS Total_Quantity_Sold FROM Data_spark\")\n",
    "\n",
    "# Fetch the result\n",
    "out = my_cursor.fetchall()\n",
    "\n",
    "# Print the result in a table format using 'tabulate'\n",
    "print(tabulate(out, headers=[i[0] for i in my_cursor.description], tablefmt='psql'))"
   ]
  },
  {
   "cell_type": "markdown",
   "metadata": {},
   "source": [
    "7. Top Products Sold by Quantity"
   ]
  },
  {
   "cell_type": "code",
   "execution_count": 48,
   "metadata": {},
   "outputs": [
    {
     "name": "stdout",
     "output_type": "stream",
     "text": [
      "+--------------------------------------------+------------------+\n",
      "| Product_Name                               |   Total_Quantity |\n",
      "|--------------------------------------------+------------------|\n",
      "| WWI Desktop PC2.33 X2330 Black             |              550 |\n",
      "| WWI Desktop PC1.80 E1800 White             |              538 |\n",
      "| Adventure Works Desktop PC1.60 ED160 Black |              521 |\n",
      "| Adventure Works Desktop PC2.30 MD230 White |              521 |\n",
      "| Adventure Works Desktop PC1.80 ED180 Black |              520 |\n",
      "+--------------------------------------------+------------------+\n"
     ]
    }
   ],
   "source": [
    "my_cursor.execute(\"SELECT  Product_Name, SUM(Quantity) AS Total_Quantity FROM Data_spark GROUP BY Product_Name ORDER BY Total_Quantity DESC LIMIT 5\")\n",
    "\n",
    "# Fetch the result\n",
    "out = my_cursor.fetchall()\n",
    "\n",
    "# Print the result in a table format using 'tabulate'\n",
    "print(tabulate(out, headers=[i[0] for i in my_cursor.description], tablefmt='psql'))"
   ]
  },
  {
   "cell_type": "markdown",
   "metadata": {},
   "source": [
    "7. Top Products by Revenue"
   ]
  },
  {
   "cell_type": "code",
   "execution_count": 50,
   "metadata": {},
   "outputs": [
    {
     "name": "stdout",
     "output_type": "stream",
     "text": [
      "+---------------------------------------------+-----------------+\n",
      "| Product_Name                                |   Total_Revenue |\n",
      "|---------------------------------------------+-----------------|\n",
      "| WWI Desktop PC2.33 X2330 Black              |          505450 |\n",
      "| Adventure Works Desktop PC2.33 XD233 Silver |          466089 |\n",
      "| Adventure Works Desktop PC2.33 XD233 Brown  |          464151 |\n",
      "| Adventure Works Desktop PC2.33 XD233 Black  |          447678 |\n",
      "| Adventure Works Desktop PC2.33 XD233 White  |          437019 |\n",
      "+---------------------------------------------+-----------------+\n"
     ]
    }
   ],
   "source": [
    "my_cursor.execute(\"SELECT Product_Name, SUM(Revenue) AS Total_Revenue FROM Data_spark GROUP BY Product_Name ORDER BY Total_Revenue DESC LIMIT 5\")\n",
    "\n",
    "# Fetch the result\n",
    "out = my_cursor.fetchall()\n",
    "\n",
    "# Print the result in a table format using 'tabulate'\n",
    "print(tabulate(out, headers=[i[0] for i in my_cursor.description], tablefmt='psql'))"
   ]
  },
  {
   "cell_type": "markdown",
   "metadata": {},
   "source": [
    "8. Least Products by Revenue"
   ]
  },
  {
   "cell_type": "code",
   "execution_count": 52,
   "metadata": {},
   "outputs": [
    {
     "name": "stdout",
     "output_type": "stream",
     "text": [
      "+-----------------------------------------------------+-----------------+\n",
      "| Product_Name                                        |   Total_Revenue |\n",
      "|-----------------------------------------------------+-----------------|\n",
      "| SV USB Data Cable E600 Silver                       |           15.2  |\n",
      "| SV USB Sync Charge Cable E700 Silver                |           15.92 |\n",
      "| Litware 80mm Dual Ball Bearing Case Fan E1001 Green |           19.96 |\n",
      "| SV USB Data Cable E600 Grey                         |           21.85 |\n",
      "| SV USB Data Cable E600 Pink                         |           25.65 |\n",
      "+-----------------------------------------------------+-----------------+\n"
     ]
    }
   ],
   "source": [
    "my_cursor.execute(\"SELECT Product_Name,SUM(Revenue) AS Total_Revenue FROM Data_spark GROUP BY Product_Name ORDER BY Total_Revenue ASC LIMIT 5\")\n",
    "\n",
    "# Fetch the result\n",
    "out = my_cursor.fetchall()\n",
    "\n",
    "# Print the result in a table format using 'tabulate'\n",
    "print(tabulate(out, headers=[i[0] for i in my_cursor.description], tablefmt='psql'))"
   ]
  },
  {
   "cell_type": "markdown",
   "metadata": {},
   "source": [
    "9. Top Profit Margin by products "
   ]
  },
  {
   "cell_type": "code",
   "execution_count": 56,
   "metadata": {},
   "outputs": [
    {
     "name": "stdout",
     "output_type": "stream",
     "text": [
      "+----------------------------------------------+-----------------+\n",
      "| Product_Name                                 |   Profit_Margin |\n",
      "|----------------------------------------------+-----------------|\n",
      "| Contoso DVD 60 DVD Storage Binder L20 Black  |        0.668851 |\n",
      "| SV DVD 60 DVD Storage Binder L20 Black       |        0.668851 |\n",
      "| SV DVD 60 DVD Storage Binder L20 Red         |        0.668851 |\n",
      "| Contoso DVD 60 DVD Storage Binder L20 Silver |        0.668851 |\n",
      "| SV DVD 60 DVD Storage Binder L20 Silver      |        0.668851 |\n",
      "+----------------------------------------------+-----------------+\n"
     ]
    }
   ],
   "source": [
    "my_cursor.execute(\"SELECT Product_Name, Profit_Margin FROM Data_spark ORDER BY Profit_Margin DESC LIMIT 5\")\n",
    "\n",
    "# Fetch the result\n",
    "out = my_cursor.fetchall()\n",
    "\n",
    "# Print the result in a table format using 'tabulate'\n",
    "print(tabulate(out, headers=[i[0] for i in my_cursor.description], tablefmt='psql'))"
   ]
  },
  {
   "cell_type": "markdown",
   "metadata": {},
   "source": [
    "10. Products Revenue by category and subcategory"
   ]
  },
  {
   "cell_type": "code",
   "execution_count": 61,
   "metadata": {},
   "outputs": [
    {
     "name": "stdout",
     "output_type": "stream",
     "text": [
      "+------------------------+----------------------+-----------------+\n",
      "| Category               | Subcategory          |   Total_Revenue |\n",
      "|------------------------+----------------------+-----------------|\n",
      "| Computers              | Desktops             |     9.90636e+06 |\n",
      "| TV and Video           | Televisions          |     4.30872e+06 |\n",
      "| Computers              | Projectors & Screens |     3.76752e+06 |\n",
      "| Home Appliances        | Water Heaters        |     3.54782e+06 |\n",
      "| Cameras and camcorders | Camcorders           |     3.35799e+06 |\n",
      "+------------------------+----------------------+-----------------+\n"
     ]
    }
   ],
   "source": [
    "my_cursor.execute(\"SELECT Category,Subcategory,SUM(Revenue) AS Total_Revenue FROM Data_spark GROUP BY Category,Subcategory ORDER BY Total_Revenue DESC LIMIT 5\")\n",
    "\n",
    "# Fetch the result\n",
    "out = my_cursor.fetchall()\n",
    "\n",
    "# Print the result in a table format using 'tabulate'\n",
    "print(tabulate(out, headers=[i[0] for i in my_cursor.description], tablefmt='psql'))"
   ]
  },
  {
   "cell_type": "markdown",
   "metadata": {},
   "source": [
    "11.Revenue by StoreKey"
   ]
  },
  {
   "cell_type": "code",
   "execution_count": 65,
   "metadata": {},
   "outputs": [
    {
     "name": "stdout",
     "output_type": "stream",
     "text": [
      "+------------+------------------+\n",
      "|   StoreKey |    Total_Revenue |\n",
      "|------------+------------------|\n",
      "|          0 |      1.14043e+07 |\n",
      "|         55 |      1.41789e+06 |\n",
      "|         50 |      1.39474e+06 |\n",
      "|         54 |      1.3844e+06  |\n",
      "|          9 |      1.33615e+06 |\n",
      "|         57 |      1.32561e+06 |\n",
      "|         45 |      1.31879e+06 |\n",
      "|         61 |      1.30568e+06 |\n",
      "|         59 |      1.30227e+06 |\n",
      "|         64 |      1.25935e+06 |\n",
      "|         43 |      1.25026e+06 |\n",
      "|          8 |      1.23223e+06 |\n",
      "|         65 |      1.22504e+06 |\n",
      "|         66 |      1.22096e+06 |\n",
      "|         44 |      1.21686e+06 |\n",
      "|         56 |      1.20725e+06 |\n",
      "|         53 |      1.19392e+06 |\n",
      "|         47 |      1.13074e+06 |\n",
      "|         51 |      1.13059e+06 |\n",
      "|         48 |      1.05827e+06 |\n",
      "|         10 |      1.04319e+06 |\n",
      "|         38 | 995313           |\n",
      "|         30 | 958121           |\n",
      "|         49 | 935569           |\n",
      "|         29 | 913856           |\n",
      "|         40 | 911596           |\n",
      "|         39 | 894119           |\n",
      "|         42 | 886026           |\n",
      "|          5 | 859678           |\n",
      "|         37 | 841994           |\n",
      "|         36 | 837667           |\n",
      "|         63 | 819931           |\n",
      "|         24 | 673560           |\n",
      "|         62 | 666303           |\n",
      "|         27 | 657476           |\n",
      "|         22 | 652985           |\n",
      "|         23 | 615041           |\n",
      "|         19 | 576575           |\n",
      "|          6 | 538782           |\n",
      "|          4 | 442475           |\n",
      "|         34 | 434760           |\n",
      "|         33 | 416859           |\n",
      "|         21 | 402274           |\n",
      "|         20 | 388594           |\n",
      "|         41 | 383054           |\n",
      "|         32 | 382595           |\n",
      "|         31 | 357130           |\n",
      "|         26 | 279775           |\n",
      "|          1 | 243030           |\n",
      "|         18 | 226079           |\n",
      "|         15 | 205120           |\n",
      "|         16 | 199010           |\n",
      "|         28 | 187109           |\n",
      "|         12 | 183091           |\n",
      "|         17 | 159607           |\n",
      "|         13 | 150925           |\n",
      "|         14 | 105714           |\n",
      "|          2 |  15176           |\n",
      "+------------+------------------+\n"
     ]
    }
   ],
   "source": [
    "my_cursor.execute(\"SELECT StoreKey, SUM(Revenue) AS Total_Revenue FROM Data_spark GROUP BY StoreKey ORDER BY Total_Revenue DESC \")\n",
    "\n",
    "# Fetch the result\n",
    "out = my_cursor.fetchall()\n",
    "\n",
    "# Print the result in a table format using 'tabulate'\n",
    "print(tabulate(out, headers=[i[0] for i in my_cursor.description], tablefmt='psql'))"
   ]
  },
  {
   "cell_type": "markdown",
   "metadata": {},
   "source": [
    "12. Revenue earned by each year"
   ]
  },
  {
   "cell_type": "code",
   "execution_count": 66,
   "metadata": {},
   "outputs": [
    {
     "name": "stdout",
     "output_type": "stream",
     "text": [
      "+--------+-----------------+\n",
      "|   Year |   Total_Revenue |\n",
      "|--------+-----------------|\n",
      "|   2016 |     6.94679e+06 |\n",
      "|   2017 |     7.42142e+06 |\n",
      "|   2018 |     1.2789e+07  |\n",
      "|   2019 |     1.82644e+07 |\n",
      "|   2020 |     9.29463e+06 |\n",
      "|   2021 |     1.03929e+06 |\n",
      "+--------+-----------------+\n"
     ]
    }
   ],
   "source": [
    "my_cursor.execute(\"SELECT YEAR(Order_Date) AS Year, SUM(Revenue) AS Total_Revenue FROM Data_spark GROUP BY YEAR(Order_Date) ORDER By Year\")\n",
    "\n",
    "# Fetch the result\n",
    "out = my_cursor.fetchall()\n",
    "\n",
    "# Print the result in a table format using 'tabulate'\n",
    "print(tabulate(out, headers=[i[0] for i in my_cursor.description], tablefmt='psql'))"
   ]
  }
 ],
 "metadata": {
  "kernelspec": {
   "display_name": "Python 3",
   "language": "python",
   "name": "python3"
  },
  "language_info": {
   "codemirror_mode": {
    "name": "ipython",
    "version": 3
   },
   "file_extension": ".py",
   "mimetype": "text/x-python",
   "name": "python",
   "nbconvert_exporter": "python",
   "pygments_lexer": "ipython3",
   "version": "3.12.4"
  }
 },
 "nbformat": 4,
 "nbformat_minor": 2
}
